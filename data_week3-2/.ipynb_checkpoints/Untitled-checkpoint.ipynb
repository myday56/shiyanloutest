{
 "cells": [
  {
   "cell_type": "code",
   "execution_count": 65,
   "metadata": {},
   "outputs": [],
   "source": [
    "import pandas as pd\n",
    "import numpy as np\n",
    "from sklearn.preprocessing import PolynomialFeatures\n",
    "from sklearn.linear_model import LinearRegression\n",
    "from sklearn.metrics import mean_absolute_error\n",
    "from sklearn.model_selection import train_test_split\n",
    "\n",
    "df = pd.read_csv('beijing_house_price.csv')\n",
    "\n",
    "df.head()\n",
    "\n",
    "df = df.drop_duplicates()\n",
    "\n",
    "df.corr()\n",
    "\n",
    "pearson_max = np.abs(df.corr().iloc[-2]).sort_values(ascending=False)[1:4]\n",
    "\n",
    "features_names = pearson_max.index.values\n",
    "\n",
    "features_names\n",
    "\n",
    "features = df[features_names]\n",
    "\n",
    "target = df.iloc[:,[-2]]\n",
    "\n",
    "target\n",
    "\n",
    "x_train,x_test,y_train,y_test = train_test_split(features,target,test_size=0.3,random_state=10)\n",
    "\n",
    "poly_features = PolynomialFeatures(degree=3)\n",
    "\n",
    "x_train_feature = poly_features.fit_transform(x_train)\n",
    "\n",
    "# x_train\n",
    "\n",
    "x_test_feature = poly_features.fit_transform(x_test)\n",
    "\n",
    "model = LinearRegression()\n",
    "\n",
    "model.fit(x_train_feature, y_train)\n",
    "\n",
    "y_pred = model.predict(x_test_feature)\n",
    "\n",
    "mae = mean_absolute_error(y_test, y_pred)\n",
    "\n",
    "mae\n",
    "\n"
   ]
  }
 ],
 "metadata": {
  "kernelspec": {
   "display_name": "Python 3",
   "language": "python",
   "name": "python3"
  },
  "language_info": {
   "codemirror_mode": {
    "name": "ipython",
    "version": 3
   },
   "file_extension": ".py",
   "mimetype": "text/x-python",
   "name": "python",
   "nbconvert_exporter": "python",
   "pygments_lexer": "ipython3",
   "version": "3.6.5"
  }
 },
 "nbformat": 4,
 "nbformat_minor": 2
}
